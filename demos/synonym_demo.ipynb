{
 "cells": [
  {
   "cell_type": "code",
   "execution_count": 1,
   "id": "2b450ad3",
   "metadata": {},
   "outputs": [],
   "source": [
    "import matplotlib.pyplot as plt\n",
    "from emolib import EmoScores"
   ]
  },
  {
   "cell_type": "code",
   "execution_count": 2,
   "id": "439a0b74",
   "metadata": {},
   "outputs": [],
   "source": [
    "plt.rcParams[\"figure.figsize\"] = (2, 1)"
   ]
  },
  {
   "cell_type": "code",
   "execution_count": 3,
   "id": "e062150b",
   "metadata": {},
   "outputs": [
    {
     "name": "stdout",
     "output_type": "stream",
     "text": [
      "LANGUAGE:  english\n"
     ]
    }
   ],
   "source": [
    "emos = EmoScores()"
   ]
  },
  {
   "cell_type": "code",
   "execution_count": 4,
   "id": "d1662fe0",
   "metadata": {},
   "outputs": [],
   "source": [
    "test_text = \"The man likes dogs. The woman appreciates hounds. The lady loves puppys.\""
   ]
  },
  {
   "cell_type": "code",
   "execution_count": 5,
   "id": "f3da42fe",
   "metadata": {},
   "outputs": [],
   "source": [
    "fmnt = emos.formamentis_network(test_text)"
   ]
  },
  {
   "cell_type": "code",
   "execution_count": 6,
   "id": "945086c1",
   "metadata": {},
   "outputs": [
    {
     "name": "stdout",
     "output_type": "stream",
     "text": [
      "[('man', 'like'), ('man', 'dog'), ('like', 'dog'), ('woman', 'appreciate'), ('woman', 'hound'), ('appreciate', 'hound'), ('lady', 'love'), ('lady', 'puppy'), ('love', 'puppy'), ('dog', 'hound')]\n"
     ]
    },
    {
     "data": {
      "text/plain": [
       "[('man', 'like'),\n",
       " ('man', 'dog'),\n",
       " ('like', 'dog'),\n",
       " ('woman', 'appreciate'),\n",
       " ('woman', 'hound'),\n",
       " ('appreciate', 'hound'),\n",
       " ('lady', 'love'),\n",
       " ('lady', 'puppy'),\n",
       " ('love', 'puppy'),\n",
       " ('dog', 'hound'),\n",
       " ('dog', 'hound')]"
      ]
     },
     "execution_count": 6,
     "metadata": {},
     "output_type": "execute_result"
    }
   ],
   "source": [
    "from language_dependencies import _negations, _pronouns, _language_code3, _valences\n",
    "from nltk.corpus import wordnet as wn\n",
    "import itertools\n",
    "def _wordnet_synonims(vertexlist, edgelist, language, with_type = False):\n",
    "    \"\"\"\n",
    "    1. For each word `i` in vertexlist, get all synonims `S_i`\n",
    "    2. For each pair of word in vertexlist that are synonims, draw an edge\n",
    "       like (i, j \\in S_i)\n",
    "    \"\"\"\n",
    "    lang = _language_code3(language)\n",
    "    if not lang:\n",
    "        return edgelist\n",
    "\n",
    "#    L = len(edgelist)\n",
    "    synonims_list = [list(set(itertools.chain(*[w.lemma_names(lang) for w in wn.synsets(x, lang = lang)]))) for x in vertexlist]\n",
    "    synonims_pairs = [list(itertools.combinations(syn, 2)) for syn in synonims_list if len(syn) > 0]\n",
    "\n",
    "    synonims_pairs = [[(a, b) for (a, b) in w if a in vertexlist and b in vertexlist] for w in synonims_pairs]\n",
    "    synonims_pairs = list(set(itertools.chain(*synonims_pairs)))\n",
    "\n",
    "    if with_type:\n",
    "        synonims_pairs = [(a, b, 'semantic') for a, b in synonims_pairs]\n",
    "\n",
    "\n",
    "    return edgelist + synonims_pairs\n",
    "\n",
    "#     return edgelist\n",
    "\n",
    "print(fmnt.edges)\n",
    "_wordnet_synonims(fmnt.vertices, fmnt.edges, \"english\")"
   ]
  },
  {
   "cell_type": "code",
   "execution_count": 7,
   "id": "afbba839",
   "metadata": {},
   "outputs": [
    {
     "data": {
      "text/plain": [
       "[Synset('like.n.01'),\n",
       " Synset('like.n.02'),\n",
       " Synset('wish.v.02'),\n",
       " Synset('like.v.02'),\n",
       " Synset('like.v.03'),\n",
       " Synset('like.v.04'),\n",
       " Synset('like.v.05'),\n",
       " Synset('like.a.01'),\n",
       " Synset('like.a.02'),\n",
       " Synset('alike.a.01'),\n",
       " Synset('comparable.s.02')]"
      ]
     },
     "execution_count": 7,
     "metadata": {},
     "output_type": "execute_result"
    }
   ],
   "source": [
    "wn.synsets(\"like\")"
   ]
  },
  {
   "cell_type": "code",
   "execution_count": 8,
   "id": "4a4c18b4",
   "metadata": {},
   "outputs": [
    {
     "name": "stdout",
     "output_type": "stream",
     "text": [
      "{'glad', 'felicitous', 'happy', 'well-chosen'}\n"
     ]
    }
   ],
   "source": [
    "synonyms = []\n",
    "\n",
    "for syn in wn.synsets(\"happy\"):\n",
    "    for l in syn.lemmas():\n",
    "        synonyms.append(l.name())\n",
    "\n",
    "print(set(synonyms))"
   ]
  },
  {
   "cell_type": "code",
   "execution_count": 9,
   "id": "d8337673",
   "metadata": {},
   "outputs": [],
   "source": [
    "happy_syns = [\"contented\",\n",
    "\"content\",\n",
    "\"cheerful\",\n",
    "\"cheery\",\n",
    "\"merry\",\n",
    "\"joyful\",\n",
    "\"jovial\",\n",
    "\"jolly\",\n",
    "\"joking\",\n",
    "\"jocular\",\n",
    "\"gleeful\",\n",
    "\"carefree\",\n",
    "\"untroubled\",\n",
    "\"delighted\",\n",
    "\"smiling\",\n",
    "\"beaming\",\n",
    "\"grinning\",\n",
    "\"glowing\",\n",
    "\"satisfied\",\n",
    "\"gratified\",\n",
    "\"buoyant\",\n",
    "\"radiant\",\n",
    "\"sunny\",\n",
    "\"blithe\",\n",
    "\"joyous\",\n",
    "\"beatific\",\n",
    "\"blessed\",\n",
    "\"cock-a-hoop\",\n",
    "\"in good spirits\",\n",
    "\"in high spirits\",\n",
    "\"in a good mood\",\n",
    "\"light-hearted\",\n",
    "\"good-humoured\",\n",
    "\"thrilled\",\n",
    "\"exuberant\",\n",
    "\"elated\",\n",
    "\"exhilarated\",\n",
    "\"ecstatic\",\n",
    "\"blissful\",\n",
    "\"euphoric\",\n",
    "\"overjoyed\",\n",
    "\"exultant\",\n",
    "\"rapturous\",\n",
    "\"rapt\",\n",
    "\"enraptured\",\n",
    "\"in seventh heaven\",\n",
    "\"on cloud nine\",\n",
    "\"over the moon\",\n",
    "\"walking on air\",\n",
    "\"beside oneself with joy\",\n",
    "\"jumping for joy\",\n",
    "\"chirpy\",\n",
    "\"on top of the world\",\n",
    "\"as happy as a sandboy\",\n",
    "\"tickled pink\",\n",
    "\"tickled to death\",\n",
    "\"like a dog with two tails\",\n",
    "\"as pleased as Punch\",\n",
    "\"on a high\",\n",
    "\"blissed out\",\n",
    "\"sent\",\n",
    "\"chuffed\",\n",
    "\"as happy as Larry\",\n",
    "\"made up\",\n",
    "\"as happy as a clam\",\n",
    "\"wrapped\",\n",
    "\"gay\",\n",
    "\"blithesome\",\n",
    "\"jocose\",\n",
    "\"jocund\",\n",
    "\"Opposite\",\n",
    "\"sad\",\n",
    "\"willing to do something.\",\n",
    "\"Similar\",\n",
    "\"willing\",\n",
    "\"glad\",\n",
    "\"ready\",\n",
    "\"pleased\",\n",
    "\"delighted\",\n",
    "\"contented\",\n",
    "\"disposed\",\n",
    "\"inclined\",\n",
    "\"game\",\n",
    "\"Opposite\",\n",
    "\"unwilling\",\n",
    "\"Similar\",\n",
    "\"fortunate\",\n",
    "\"lucky\",\n",
    "\"favourable\",\n",
    "\"advantageous\",\n",
    "\"opportune\",\n",
    "\"timely\",\n",
    "\"well timed\",\n",
    "\"convenient\",\n",
    "\"propitious\",\n",
    "\"felicitous\",\n",
    "\"auspicious\",\n",
    "\"beneficial\",\n",
    "\"helpful\",\n",
    "\"appropriate\"]"
   ]
  },
  {
   "cell_type": "code",
   "execution_count": 10,
   "id": "c3912404",
   "metadata": {},
   "outputs": [
    {
     "data": {
      "text/plain": [
       "100"
      ]
     },
     "execution_count": 10,
     "metadata": {},
     "output_type": "execute_result"
    }
   ],
   "source": [
    "len(happy_syns)"
   ]
  },
  {
   "cell_type": "code",
   "execution_count": 47,
   "id": "cd1a920d",
   "metadata": {},
   "outputs": [
    {
     "data": {
      "text/plain": [
       "<itertools.chain at 0x7f3729536bc0>"
      ]
     },
     "execution_count": 47,
     "metadata": {},
     "output_type": "execute_result"
    }
   ],
   "source": [
    "lang = _language_code3(\"english\")\n",
    "vertexlist = fmnt.vertices\n",
    "synonims_list = itertools.chain([list(set(itertools.chain(*[w.lemma_names(lang) for w in wn.synsets(x, lang = lang)]))) for x in vertexlist])\n",
    "synonims_list"
   ]
  },
  {
   "cell_type": "code",
   "execution_count": 40,
   "id": "df36fb68",
   "metadata": {},
   "outputs": [
    {
     "data": {
      "text/plain": [
       "[['woman',\n",
       "  'fair_sex',\n",
       "  'womanhood',\n",
       "  'adult_female',\n",
       "  'cleaning_lady',\n",
       "  'char',\n",
       "  'charwoman',\n",
       "  'cleaning_woman'],\n",
       " ['appreciate',\n",
       "  'value',\n",
       "  'apprise',\n",
       "  'take_account',\n",
       "  'prize',\n",
       "  'treasure',\n",
       "  'revalue',\n",
       "  'apprize'],\n",
       " ['lady',\n",
       "  'madam',\n",
       "  'gentlewoman',\n",
       "  'dame',\n",
       "  'Lady',\n",
       "  'peeress',\n",
       "  'noblewoman',\n",
       "  \"ma'am\"],\n",
       " ['puppy', 'pup'],\n",
       " ['Canis_familiaris',\n",
       "  'domestic_dog',\n",
       "  'hound',\n",
       "  'track',\n",
       "  'hotdog',\n",
       "  'dog-iron',\n",
       "  'heel',\n",
       "  'click',\n",
       "  'give_chase',\n",
       "  'go_after',\n",
       "  'frump',\n",
       "  'tag',\n",
       "  'pawl',\n",
       "  'hot_dog',\n",
       "  'wiener',\n",
       "  'wienerwurst',\n",
       "  'tail',\n",
       "  'frankfurter',\n",
       "  'detent',\n",
       "  'blackguard',\n",
       "  'dog',\n",
       "  'weenie',\n",
       "  'firedog',\n",
       "  'cad',\n",
       "  'frank',\n",
       "  'chase',\n",
       "  'chase_after',\n",
       "  'andiron',\n",
       "  'bounder',\n",
       "  'trail'],\n",
       " ['trace',\n",
       "  'cad',\n",
       "  'blackguard',\n",
       "  'dog',\n",
       "  'hound',\n",
       "  'hound_dog',\n",
       "  'bounder',\n",
       "  'heel',\n",
       "  'hunt'],\n",
       " ['sleep_with',\n",
       "  'lie_with',\n",
       "  'dearest',\n",
       "  'screw',\n",
       "  'hump',\n",
       "  'have_it_away',\n",
       "  'erotic_love',\n",
       "  'sleep_together',\n",
       "  'love_life',\n",
       "  'lovemaking',\n",
       "  'passion',\n",
       "  'know',\n",
       "  'beloved',\n",
       "  'jazz',\n",
       "  'make_out',\n",
       "  'have_a_go_at_it',\n",
       "  'love',\n",
       "  'get_it_on',\n",
       "  'do_it',\n",
       "  'have_intercourse',\n",
       "  'enjoy',\n",
       "  'honey',\n",
       "  'fuck',\n",
       "  'sexual_love',\n",
       "  'roll_in_the_hay',\n",
       "  'make_love',\n",
       "  'bonk',\n",
       "  'have_it_off',\n",
       "  'bang',\n",
       "  'get_laid',\n",
       "  'making_love',\n",
       "  'eff',\n",
       "  'bed',\n",
       "  'have_sex',\n",
       "  'dear',\n",
       "  'be_intimate'],\n",
       " ['the_like',\n",
       "  'comparable',\n",
       "  'wish',\n",
       "  'same',\n",
       "  'the_likes_of',\n",
       "  'care',\n",
       "  'similar',\n",
       "  'ilk',\n",
       "  'alike',\n",
       "  'corresponding',\n",
       "  'like'],\n",
       " ['human_being',\n",
       "  'piece',\n",
       "  'valet',\n",
       "  'mankind',\n",
       "  'Isle_of_Man',\n",
       "  'military_personnel',\n",
       "  'homo',\n",
       "  'Man',\n",
       "  'humanity',\n",
       "  'world',\n",
       "  'serviceman',\n",
       "  'humankind',\n",
       "  'man',\n",
       "  'humans',\n",
       "  'gentleman',\n",
       "  'military_man',\n",
       "  'adult_male',\n",
       "  'valet_de_chambre',\n",
       "  'human',\n",
       "  'human_beings',\n",
       "  \"gentleman's_gentleman\",\n",
       "  'human_race']]"
      ]
     },
     "execution_count": 40,
     "metadata": {},
     "output_type": "execute_result"
    }
   ],
   "source": [
    "synonims_list = [list(set(itertools.chain(*[w.lemma_names(lang) for w in wn.synsets(x, lang = lang)]))) for x in vertexlist]\n",
    "synonims_list"
   ]
  },
  {
   "cell_type": "code",
   "execution_count": 32,
   "id": "3a7221ff",
   "metadata": {},
   "outputs": [],
   "source": [
    "def get_synonyms(word):\n",
    "    synonyms = []\n",
    "    for syn in wn.synsets(word):\n",
    "        for i in syn.lemmas():\n",
    "            synonyms.append(i.name())\n",
    "get_synonyms(\"lady\")     "
   ]
  },
  {
   "cell_type": "code",
   "execution_count": 22,
   "id": "62b129fe",
   "metadata": {},
   "outputs": [],
   "source": [
    "synonyms = []\n",
    "for syn in wn.synsets(\"lady\"):\n",
    "    for i in syn.lemmas():\n",
    "        synonyms.append(i.name())"
   ]
  },
  {
   "cell_type": "code",
   "execution_count": 20,
   "id": "e03288dd",
   "metadata": {},
   "outputs": [
    {
     "data": {
      "text/plain": [
       "['woman',\n",
       " 'adult_female',\n",
       " 'woman',\n",
       " 'charwoman',\n",
       " 'char',\n",
       " 'cleaning_woman',\n",
       " 'cleaning_lady',\n",
       " 'woman',\n",
       " 'womanhood',\n",
       " 'woman',\n",
       " 'fair_sex']"
      ]
     },
     "execution_count": 20,
     "metadata": {},
     "output_type": "execute_result"
    }
   ],
   "source": [
    "synonyms"
   ]
  },
  {
   "cell_type": "code",
   "execution_count": null,
   "id": "e0bc95e0",
   "metadata": {},
   "outputs": [],
   "source": [
    "def get_synonyms(word)\n",
    "    for syn in wn.synsets(word):\n",
    "        [i.name() for i in syn.lemmas()]\n",
    "            synonyms.append(i.name())\n"
   ]
  },
  {
   "cell_type": "code",
   "execution_count": 17,
   "id": "59b3104f",
   "metadata": {},
   "outputs": [
    {
     "data": {
      "text/plain": [
       "['love',\n",
       " 'love',\n",
       " 'passion',\n",
       " 'beloved',\n",
       " 'dear',\n",
       " 'dearest',\n",
       " 'honey',\n",
       " 'love',\n",
       " 'love',\n",
       " 'sexual_love',\n",
       " 'erotic_love',\n",
       " 'love',\n",
       " 'sexual_love',\n",
       " 'lovemaking',\n",
       " 'making_love',\n",
       " 'love',\n",
       " 'love_life',\n",
       " 'love',\n",
       " 'love',\n",
       " 'enjoy',\n",
       " 'love',\n",
       " 'sleep_together',\n",
       " 'roll_in_the_hay',\n",
       " 'love',\n",
       " 'make_out',\n",
       " 'make_love',\n",
       " 'sleep_with',\n",
       " 'get_laid',\n",
       " 'have_sex',\n",
       " 'know',\n",
       " 'do_it',\n",
       " 'be_intimate',\n",
       " 'have_intercourse',\n",
       " 'have_it_away',\n",
       " 'have_it_off',\n",
       " 'screw',\n",
       " 'fuck',\n",
       " 'jazz',\n",
       " 'eff',\n",
       " 'hump',\n",
       " 'lie_with',\n",
       " 'bed',\n",
       " 'have_a_go_at_it',\n",
       " 'bang',\n",
       " 'get_it_on',\n",
       " 'bonk']"
      ]
     },
     "execution_count": 17,
     "metadata": {},
     "output_type": "execute_result"
    }
   ],
   "source": [
    "synonyms"
   ]
  },
  {
   "cell_type": "code",
   "execution_count": 10,
   "id": "11530d0c",
   "metadata": {},
   "outputs": [
    {
     "data": {
      "text/plain": [
       "[Synset('puppy.n.01'), Synset('puppy.n.02')]"
      ]
     },
     "execution_count": 10,
     "metadata": {},
     "output_type": "execute_result"
    }
   ],
   "source": [
    "wn.synsets(\"puppy\")"
   ]
  },
  {
   "cell_type": "code",
   "execution_count": 11,
   "id": "1ed1121b",
   "metadata": {},
   "outputs": [],
   "source": [
    "wn.synsets?"
   ]
  },
  {
   "cell_type": "code",
   "execution_count": 9,
   "id": "994b15f3",
   "metadata": {},
   "outputs": [
    {
     "data": {
      "text/plain": [
       "[Synset('woman.n.01'),\n",
       " Synset('woman.n.02'),\n",
       " Synset('charwoman.n.01'),\n",
       " Synset('womanhood.n.02')]"
      ]
     },
     "execution_count": 9,
     "metadata": {},
     "output_type": "execute_result"
    }
   ],
   "source": [
    "wn.synsets(\"lady\")\n",
    "wn.synsets(\"woman\")"
   ]
  },
  {
   "cell_type": "code",
   "execution_count": 16,
   "id": "b92fc14e",
   "metadata": {},
   "outputs": [
    {
     "data": {
      "text/plain": [
       "[('man', 'like'),\n",
       " ('man', 'dog'),\n",
       " ('like', 'dog'),\n",
       " ('woman', 'appreciate'),\n",
       " ('woman', 'hound'),\n",
       " ('appreciate', 'hound'),\n",
       " ('lady', 'love'),\n",
       " ('lady', 'puppy'),\n",
       " ('love', 'puppy'),\n",
       " ('hound', 'dog'),\n",
       " ('hound', 'dog')]"
      ]
     },
     "execution_count": 16,
     "metadata": {},
     "output_type": "execute_result"
    }
   ],
   "source": [
    "fmnt.edges"
   ]
  },
  {
   "cell_type": "code",
   "execution_count": 7,
   "id": "6c19ad60",
   "metadata": {},
   "outputs": [
    {
     "ename": "SyntaxError",
     "evalue": "invalid syntax (1502011285.py, line 2)",
     "output_type": "error",
     "traceback": [
      "\u001b[0;36m  Input \u001b[0;32mIn [7]\u001b[0;36m\u001b[0m\n\u001b[0;31m    emos.\u001b[0m\n\u001b[0m         ^\u001b[0m\n\u001b[0;31mSyntaxError\u001b[0m\u001b[0;31m:\u001b[0m invalid syntax\n"
     ]
    }
   ],
   "source": [
    "# emos.draw_formamentis(fmnt)\n",
    "# emos."
   ]
  },
  {
   "cell_type": "code",
   "execution_count": null,
   "id": "88ffd1f7",
   "metadata": {},
   "outputs": [],
   "source": []
  }
 ],
 "metadata": {
  "kernelspec": {
   "display_name": "fork_emolib",
   "language": "python",
   "name": "fork_emolib"
  },
  "language_info": {
   "codemirror_mode": {
    "name": "ipython",
    "version": 3
   },
   "file_extension": ".py",
   "mimetype": "text/x-python",
   "name": "python",
   "nbconvert_exporter": "python",
   "pygments_lexer": "ipython3",
   "version": "3.10.6"
  }
 },
 "nbformat": 4,
 "nbformat_minor": 5
}
